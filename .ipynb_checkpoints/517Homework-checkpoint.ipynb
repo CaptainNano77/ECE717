{
 "cells": [
  {
   "cell_type": "code",
   "execution_count": 1,
   "metadata": {},
   "outputs": [],
   "source": [
    "#import libraries\n",
    "import numpy as np\n",
    "import numpy.matlib as matlib\n",
    "import matplotlib.pyplot as plt\n",
    "import seaborn as sns\n",
    "import pandas as pd\n",
    "\n",
    "# import warnings filter\n",
    "from warnings import simplefilter\n",
    "# ignore all future warnings\n",
    "simplefilter(action='ignore', category=FutureWarning)\n",
    "\n",
    "#Define data function\n",
    "def data(N,sigma):\n",
    "    w=np.ones(10)/np.sqrt(10)   \n",
    "    w1=[1., 1., 1., 1., 1., -1., -1., -1., -1., -1.]/np.sqrt(10)   \n",
    "    w2=[-1., -1., 0, 1., 1., -1., -1., 0, -1., -1.]/np.sqrt(8)   \n",
    "    x=np.zeros((4,10))   \n",
    "    x[1,:]=x[0,:]+sigma*w1   \n",
    "    x[2,:]=x[0,:]+sigma*w2   \n",
    "    x[3,:]=x[2,:]+sigma*w1   \n",
    "    X1=x+sigma*matlib.repmat(w,4,1)/2   \n",
    "    X2=x-sigma*matlib.repmat(w,4,1)/2   \n",
    "    X1=matlib.repmat(X1,2*N,1)   \n",
    "    X2=matlib.repmat(X2,2*N,1)   \n",
    "    X=np.concatenate((X1, X2), axis=0)   \n",
    "    Y=np.concatenate((np.ones(4*2*N), -np.ones(4*2*N)),axis=0)   \n",
    "    Z=np.random.permutation(16*N)   \n",
    "    Z=Z[:N]   \n",
    "    X=X[Z,:]   \n",
    "    X=X+0.2*sigma*np.random.randn(N,10)   \n",
    "    Y=Y[Z]\n",
    "    return X,Y"
   ]
  },
  {
   "cell_type": "code",
   "execution_count": 2,
   "metadata": {},
   "outputs": [],
   "source": [
    "#Call Data function to generate the data\n",
    "X,Y=data(100,1)"
   ]
  },
  {
   "cell_type": "code",
   "execution_count": 3,
   "metadata": {},
   "outputs": [
    {
     "data": {
      "text/plain": [
       "(100, 10)"
      ]
     },
     "execution_count": 3,
     "metadata": {},
     "output_type": "execute_result"
    }
   ],
   "source": [
    "#Check the data creation\n",
    "X.shape"
   ]
  },
  {
   "cell_type": "code",
   "execution_count": 4,
   "metadata": {},
   "outputs": [
    {
     "data": {
      "text/plain": [
       "(100,)"
      ]
     },
     "execution_count": 4,
     "metadata": {},
     "output_type": "execute_result"
    }
   ],
   "source": [
    "Y.shape"
   ]
  },
  {
   "cell_type": "code",
   "execution_count": 5,
   "metadata": {},
   "outputs": [],
   "source": [
    "from sklearn import svm"
   ]
  },
  {
   "cell_type": "code",
   "execution_count": 6,
   "metadata": {},
   "outputs": [],
   "source": [
    "svm_model = svm.SVC(kernel='linear', C=100, random_state=1)"
   ]
  },
  {
   "cell_type": "code",
   "execution_count": 7,
   "metadata": {},
   "outputs": [
    {
     "name": "stdout",
     "output_type": "stream",
     "text": [
      "Train set: (70, 10) (70,)\n",
      "Test set: (30, 10) (30,)\n"
     ]
    }
   ],
   "source": [
    "from sklearn.model_selection import train_test_split\n",
    "X_train, X_test, y_train, y_test = train_test_split(X, Y, test_size=0.3, random_state=4)\n",
    "print ('Train set:', X_train.shape,  y_train.shape)\n",
    "print ('Test set:', X_test.shape,  y_test.shape)"
   ]
  },
  {
   "cell_type": "code",
   "execution_count": 8,
   "metadata": {},
   "outputs": [],
   "source": [
    "model = svm_model.fit(X_train, y_train)"
   ]
  },
  {
   "cell_type": "code",
   "execution_count": 9,
   "metadata": {
    "scrolled": true
   },
   "outputs": [
    {
     "data": {
      "text/plain": [
       "{'C': 100,\n",
       " 'break_ties': False,\n",
       " 'cache_size': 200,\n",
       " 'class_weight': None,\n",
       " 'coef0': 0.0,\n",
       " 'decision_function_shape': 'ovr',\n",
       " 'degree': 3,\n",
       " 'gamma': 'scale',\n",
       " 'kernel': 'linear',\n",
       " 'max_iter': -1,\n",
       " 'probability': False,\n",
       " 'random_state': 1,\n",
       " 'shrinking': True,\n",
       " 'tol': 0.001,\n",
       " 'verbose': False}"
      ]
     },
     "execution_count": 9,
     "metadata": {},
     "output_type": "execute_result"
    }
   ],
   "source": [
    "model.get_params()"
   ]
  },
  {
   "cell_type": "code",
   "execution_count": 10,
   "metadata": {
    "scrolled": true
   },
   "outputs": [
    {
     "data": {
      "text/plain": [
       "array([-1.,  1., -1., -1.,  1.])"
      ]
     },
     "execution_count": 10,
     "metadata": {},
     "output_type": "execute_result"
    }
   ],
   "source": [
    "yhat = svm_model.predict(X_test)\n",
    "yhat [0:5]"
   ]
  },
  {
   "cell_type": "code",
   "execution_count": 11,
   "metadata": {},
   "outputs": [],
   "source": [
    "from sklearn import metrics\n",
    "from sklearn.metrics import precision_score\n",
    "from sklearn.metrics import recall_score\n",
    "from sklearn.metrics import f1_score\n",
    "from sklearn.metrics import jaccard_score"
   ]
  },
  {
   "cell_type": "code",
   "execution_count": 12,
   "metadata": {},
   "outputs": [
    {
     "name": "stdout",
     "output_type": "stream",
     "text": [
      "train 1.0 test 0.9333333333333333\n"
     ]
    }
   ],
   "source": [
    "svm_train_acc = metrics.accuracy_score(y_train, svm_model.predict(X_train))\n",
    "svm_test_acc = metrics.accuracy_score(y_test, yhat)\n",
    "print ('train', svm_train_acc, 'test', svm_test_acc)"
   ]
  },
  {
   "cell_type": "code",
   "execution_count": 13,
   "metadata": {},
   "outputs": [
    {
     "data": {
      "text/plain": [
       "0.9336309523809523"
      ]
     },
     "execution_count": 13,
     "metadata": {},
     "output_type": "execute_result"
    }
   ],
   "source": [
    "svm_f1 = f1_score(y_test, yhat, average='weighted') \n",
    "svm_f1"
   ]
  },
  {
   "cell_type": "code",
   "execution_count": 14,
   "metadata": {},
   "outputs": [
    {
     "data": {
      "text/plain": [
       "0.8755555555555555"
      ]
     },
     "execution_count": 14,
     "metadata": {},
     "output_type": "execute_result"
    }
   ],
   "source": [
    "svm_jac = jaccard_score(y_test, yhat, average='weighted')\n",
    "svm_jac"
   ]
  },
  {
   "cell_type": "code",
   "execution_count": 15,
   "metadata": {
    "scrolled": false
   },
   "outputs": [
    {
     "data": {
      "image/png": "[encoded data removed]",
      "text/plain": [
       "<Figure size 432x288 with 1 Axes>"
      ]
     },
     "metadata": {
      "needs_background": "light"
     },
     "output_type": "display_data"
    }
   ],
   "source": [
    "classes = np.unique(y_test)\n",
    "fig, ax = plt.subplots()\n",
    "cm = metrics.confusion_matrix(y_test, yhat, labels=classes)\n",
    "sns.heatmap(cm, annot=True, fmt='d', cmap=plt.cm.Blues, cbar=False)\n",
    "ax.set(xlabel=\"Pred\", ylabel=\"True\", title=\"Confusion matrix\")\n",
    "ax.set_yticklabels(labels=classes, rotation=0)\n",
    "plt.show()"
   ]
  },
  {
   "cell_type": "markdown",
   "metadata": {},
   "source": [
    "FROM DOCUMENTATION:\n",
    "dual_coef_ndarray of shape (n_class-1, n_SV)\n",
    "Dual coefficients of the support vector in the decision function (see Mathematical formulation), multiplied by their targets. For multiclass, coefficient for all 1-vs-1 classifiers. The layout of the coefficients in the multiclass case is somewhat non-trivial. See the multi-class section of the User Guide for details."
   ]
  },
  {
   "cell_type": "code",
   "execution_count": 16,
   "metadata": {
    "scrolled": true
   },
   "outputs": [
    {
     "data": {
      "text/plain": [
       "array([[ -3.80845921,  -8.71885619, -10.12785141,  -0.27351073,\n",
       "          6.4229317 ,   2.0386985 ,  14.46704735]])"
      ]
     },
     "execution_count": 16,
     "metadata": {},
     "output_type": "execute_result"
    }
   ],
   "source": [
    "model.dual_coef_"
   ]
  },
  {
   "cell_type": "markdown",
   "metadata": {},
   "source": [
    "FROM DOCUMENTATION:\n",
    "coef_ndarray of shape (n_class * (n_class-1) / 2, n_features)\n",
    "Weights assigned to the features (coefficients in the primal problem). This is only available in the case of a linear kernel.\n",
    "\n",
    "coef_ is a readonly property derived from dual_coef_ and support_vectors_."
   ]
  },
  {
   "cell_type": "code",
   "execution_count": 17,
   "metadata": {},
   "outputs": [
    {
     "data": {
      "text/plain": [
       "array([[ 0.73956976,  1.27818123,  1.82709583,  3.55248694,  1.42732727,\n",
       "         1.2208139 ,  2.70690157,  4.03933321, -0.28702324,  0.68623493]])"
      ]
     },
     "execution_count": 17,
     "metadata": {},
     "output_type": "execute_result"
    }
   ],
   "source": [
    "model.coef_"
   ]
  },
  {
   "cell_type": "markdown",
   "metadata": {},
   "source": [
    "This is an array of shape ((n_class * (n_class -1) / 2), n_features) and represents the aforementioned weights.\n",
    "\n",
    "According to the doc the weights are ordered as:\n",
    "\n",
    "class 0 vs class 1\n",
    "class 0 vs class 2\n",
    "...\n",
    "class 0 vs class n-1\n",
    "class 1 vs class 2"
   ]
  },
  {
   "cell_type": "code",
   "execution_count": 18,
   "metadata": {},
   "outputs": [
    {
     "data": {
      "text/plain": [
       "array([-1.,  1.])"
      ]
     },
     "execution_count": 18,
     "metadata": {},
     "output_type": "execute_result"
    }
   ],
   "source": [
    "model.classes_   # represents the unique classes"
   ]
  },
  {
   "cell_type": "code",
   "execution_count": 19,
   "metadata": {},
   "outputs": [
    {
     "name": "stdout",
     "output_type": "stream",
     "text": [
      "[10 24 51 64  6 53 56]\n"
     ]
    }
   ],
   "source": [
    "# Get support vector indices\n",
    "support_vector_indices = model.support_\n",
    "print(support_vector_indices)"
   ]
  },
  {
   "cell_type": "code",
   "execution_count": 20,
   "metadata": {
    "scrolled": true
   },
   "outputs": [
    {
     "name": "stdout",
     "output_type": "stream",
     "text": [
      "[4 3]\n"
     ]
    }
   ],
   "source": [
    "# Get number of support vectors per class\n",
    "support_vectors_per_class = model.n_support_\n",
    "print(support_vectors_per_class)"
   ]
  },
  {
   "cell_type": "code",
   "execution_count": 21,
   "metadata": {},
   "outputs": [
    {
     "data": {
      "image/png": "[encoded data removed]",
      "text/plain": [
       "<Figure size 1008x504 with 1 Axes>"
      ]
     },
     "metadata": {
      "needs_background": "light"
     },
     "output_type": "display_data"
    }
   ],
   "source": [
    "from textwrap import wrap\n",
    "\n",
    "# Get support vectors themselves\n",
    "support_vectors = model.support_vectors_\n",
    "\n",
    "# get the separating hyperplane\n",
    "w = model.coef_[0]\n",
    "a = -w[0] / w[1]\n",
    "xx = np.linspace(-5, 5)\n",
    "yy = a * xx - (model.intercept_[0]) / w[1]\n",
    "\n",
    "# plot the parallels to the separating hyperplane that pass through the\n",
    "# support vectors (margin away from hyperplane in direction\n",
    "# perpendicular to hyperplane). This is sqrt(1+a^2) away vertically in\n",
    "# 2-d.\n",
    "margin = 1 / np.sqrt(np.sum(model.coef_ ** 2))\n",
    "yy_down = yy - np.sqrt(1 + a ** 2) * margin\n",
    "yy_up = yy + np.sqrt(1 + a ** 2) * margin\n",
    "\n",
    "# plot the line, the points, and the nearest vectors to the plane\n",
    "plt.figure(figsize=(14, 7))\n",
    "plt.plot(xx, yy, 'k-')\n",
    "plt.plot(xx, yy_down, 'k--')\n",
    "plt.plot(xx, yy_up, 'k--')\n",
    "# Visualize support vectors\n",
    "plt.scatter(support_vectors[:,0], support_vectors[:,1], color='red')\n",
    "color = ['blue' if c == -1 else 'green' for c in y_train]\n",
    "plt.scatter(X_train[:,0], X_train[:,1], c=color, s=95, alpha=0.5)\n",
    "\n",
    "# #Plot the hyperplane\n",
    "# plt.plot(xx, yy, c='black', linewidth=3)\n",
    "\n",
    "title = 'Data (-1:blue; 1:green) with Support Vectors (red), Hyperplane (solid) and Margins (dashed)'\n",
    "plt.title('\\n'.join(wrap(title, 60)), fontweight='bold', fontsize=20, ha='center')\n",
    "plt.xlabel('X1', fontweight='bold', fontsize=14)\n",
    "plt.ylabel('X2', fontweight='bold', fontsize=14)\n",
    "plt.xticks(rotation=40, fontweight='bold', fontsize=12)\n",
    "plt.yticks(fontweight='bold', fontsize=12)\n",
    "plt.ylim(-1,1)\n",
    "plt.xlim(-1,1)\n",
    "\n",
    "plt.show()"
   ]
  },
  {
   "cell_type": "code",
   "execution_count": null,
   "metadata": {},
   "outputs": [],
   "source": []
  },
  {
   "cell_type": "code",
   "execution_count": 22,
   "metadata": {},
   "outputs": [
    {
     "ename": "SyntaxError",
     "evalue": "invalid syntax (<ipython-input-22-4efcf49d801e>, line 4)",
     "output_type": "error",
     "traceback": [
      "\u001b[0;36m  File \u001b[0;32m\"<ipython-input-22-4efcf49d801e>\"\u001b[0;36m, line \u001b[0;32m4\u001b[0m\n\u001b[0;31m    w1=w.*[11 1 1 1-1-1-1-1-1]; w2=w.*[-1-10 1 1-1-101 1]; w2=w2/norm(w2)\u001b[0m\n\u001b[0m    ^\u001b[0m\n\u001b[0;31mSyntaxError\u001b[0m\u001b[0;31m:\u001b[0m invalid syntax\n"
     ]
    }
   ],
   "source": [
    "#Reference code for Task4\n",
    "def data(N,sigma:\n",
    "         w=ones(1,10)/sqrt(10)\n",
    "         w1=w.*[11 1 1 1-1-1-1-1-1]; w2=w.*[-1-10 1 1-1-101 1]; w2=w2/norm(w2)\n",
    "         x(1,:)=zeros(1,10); x(2,:)=x(1,:)+sigma*w1; x(3,:)=x(1,:)+sigma*w2\n",
    "         x(4,:)=x(3,:)+sigma*w1; X1=x+sigma*repmat(w,4,1)/2; X2=x-sigma*repmat(w,4,1)/2; \n",
    "         X1=repmat(X1,2*N,1); \n",
    "         X2=repmat(X2,2*N,1); \n",
    "         X=[X1;X2];\n",
    "         Y=[ones(4*2*N,1);-ones(4*2*N,1)]; Z=randperm(8*2*N)\n",
    "         Z=Z(1:N); X=X(Z,:)+0.2*sigma*randn(size(X(Z,:))); Y=Y(Z)"
   ]
  },
  {
   "cell_type": "code",
   "execution_count": null,
   "metadata": {},
   "outputs": [],
   "source": []
  }
 ],
 "metadata": {
  "kernelspec": {
   "display_name": "Python 3",
   "language": "python",
   "name": "python3"
  },
  "language_info": {
   "codemirror_mode": {
    "name": "ipython",
    "version": 3
   },
   "file_extension": ".py",
   "mimetype": "text/x-python",
   "name": "python",
   "nbconvert_exporter": "python",
   "pygments_lexer": "ipython3",
   "version": "3.8.5"
  }
 },
 "nbformat": 4,
 "nbformat_minor": 4
}
